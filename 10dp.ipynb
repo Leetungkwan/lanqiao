{
 "cells": [
  {
   "cell_type": "code",
   "execution_count": null,
   "metadata": {
    "collapsed": true
   },
   "outputs": [],
   "source": [
    "import sys\n",
    "import os"
   ]
  },
  {
   "cell_type": "markdown",
   "source": [
    "## 如果能进入再学吧（佛祖保佑）"
   ],
   "metadata": {
    "collapsed": false
   }
  },
  {
   "cell_type": "code",
   "execution_count": 10,
   "outputs": [
    {
     "name": "stdout",
     "output_type": "stream",
     "text": [
      "2\n"
     ]
    }
   ],
   "source": [
    "# 最少硬币问题\n",
    "def solve(s):\n",
    "    dp = [int(1e9)]*(s+1) # 设置无限大是考虑初始值，s+1是剔除0的作用\n",
    "    dp[0] = 0\n",
    "    for i in type:  # 遍历硬币的种类\n",
    "        for j in range(i, s+1): # 比 i小的不需要考虑\n",
    "            dp[j] = min(dp[j],dp[j-i]+1)\n",
    "    print(dp[s])\n",
    "\n",
    "type = [1,2,4,5,6]  # 最少硬币问题\n",
    "s = int(input())\n",
    "solve(s)"
   ],
   "metadata": {
    "collapsed": false
   }
  },
  {
   "cell_type": "code",
   "execution_count": null,
   "outputs": [],
   "source": [
    "# 贪心法解背包问题，只能通过一个测试用例\n",
    "\n",
    "n,v = map(int,input().split())\n",
    "\n",
    "wv = [list(map(int,input().split())) for _ in range(n)]\n",
    "\n",
    "wv.sort(key=lambda wv: abs(wv[1]-wv[0]),reverse=True)\n",
    "\n",
    "sum_w = 0\n",
    "sum_v = 0\n",
    "for i in range(n):\n",
    "  sum_w += wv[i][0]\n",
    "  if sum_w <= v:\n",
    "    sum_v += wv[i][1]\n",
    "  else:\n",
    "    break\n",
    "print(sum_v)\n"
   ],
   "metadata": {
    "collapsed": false
   }
  }
 ],
 "metadata": {
  "kernelspec": {
   "display_name": "Python 3",
   "language": "python",
   "name": "python3"
  },
  "language_info": {
   "codemirror_mode": {
    "name": "ipython",
    "version": 2
   },
   "file_extension": ".py",
   "mimetype": "text/x-python",
   "name": "python",
   "nbconvert_exporter": "python",
   "pygments_lexer": "ipython2",
   "version": "2.7.6"
  }
 },
 "nbformat": 4,
 "nbformat_minor": 0
}
