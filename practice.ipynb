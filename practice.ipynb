{
 "cells": [
  {
   "cell_type": "code",
   "execution_count": 2,
   "metadata": {
    "collapsed": true
   },
   "outputs": [],
   "source": [
    "import os\n",
    "import sys\n",
    "from datetime import *"
   ]
  },
  {
   "cell_type": "code",
   "execution_count": null,
   "outputs": [],
   "source": [
    "# 真题-跑步锻炼\n",
    "from datetime import *\n",
    "\n",
    "dt1 = datetime(2000,1,1)\n",
    "dt2 = datetime(2020,10,1)\n",
    "\n",
    "ans = 0\n",
    "\n",
    "td = dt2-dt1\n",
    "\n",
    "l = td.days\n",
    "\n",
    "for i in range(l+1):\n",
    "    if dt1.isoweekday() == 1 or dt1.day == 1:\n",
    "        ans += 2\n",
    "    else:\n",
    "        ans += 1\n",
    "    dt1 = dt1 + timedelta(days=1)\n",
    "\n",
    "print(ans)\n"
   ],
   "metadata": {
    "collapsed": false,
    "pycharm": {
     "is_executing": true
    }
   }
  },
  {
   "cell_type": "code",
   "execution_count": null,
   "outputs": [],
   "source": [
    "# 真题-字母26进制\n",
    "a = 2019\n",
    "\n",
    "print(a//26)\n",
    "print(a%26)\n",
    "\n",
    "a = 77\n",
    "print(a // 26)\n",
    "print(a % 26)"
   ],
   "metadata": {
    "collapsed": false,
    "pycharm": {
     "is_executing": true
    }
   }
  },
  {
   "cell_type": "code",
   "execution_count": null,
   "outputs": [],
   "source": [
    "# 真题-猜生日\n",
    "\n",
    "dt = datetime(1900,1,1)\n",
    "dt2 = datetime(2012,3,12)\n",
    "l = (dt2-dt).days\n",
    "# num = f'{dt.year:04d}{dt.month:02d}{dt.day:02d}'\n",
    "# print(type(num))\n",
    "ans = []\n",
    "\n",
    "for _ in range(l):\n",
    "    num = int(f'{dt.year:04d}{dt.month:02d}{dt.day:02d}')\n",
    "    if (num % 2012 == 0) and (num % 3 ==0) and (num % 12 ==0):\n",
    "        ans.append(f'{dt.year:04d}{dt.month:02d}{dt.day:02d}')\n",
    "\n",
    "    dt += timedelta(days=1)\n",
    "\n",
    "print(ans)"
   ],
   "metadata": {
    "collapsed": false,
    "pycharm": {
     "is_executing": true
    }
   }
  },
  {
   "cell_type": "code",
   "execution_count": null,
   "outputs": [],
   "source": [
    "# 进制问题"
   ],
   "metadata": {
    "collapsed": false,
    "pycharm": {
     "is_executing": true
    }
   }
  },
  {
   "cell_type": "code",
   "execution_count": null,
   "outputs": [],
   "source": [
    "# 棋盘放麦子-一定要读清楚题目，考试没得调试\n",
    "cnt = 0\n",
    "for i in range(64):\n",
    "  cnt += 2**i\n",
    "\n",
    "print(cnt)"
   ],
   "metadata": {
    "collapsed": false,
    "pycharm": {
     "is_executing": true
    }
   }
  },
  {
   "cell_type": "code",
   "execution_count": null,
   "outputs": [],
   "source": [
    "# 字符串可以被遍历\n",
    "s = '12356'\n",
    "for i in s:\n",
    "    print(int(i))"
   ],
   "metadata": {
    "collapsed": false,
    "pycharm": {
     "is_executing": true
    }
   }
  },
  {
   "cell_type": "code",
   "execution_count": 2,
   "outputs": [
    {
     "name": "stdout",
     "output_type": "stream",
     "text": [
      "3\n"
     ]
    }
   ],
   "source": [
    "# 数位排序\n",
    "n=int(input())\n",
    "m=int(input())\n",
    "s=list(range(1,n+1))\n",
    "s.sort(key=lambda x:sum(int(i) for i in str(x)))\n",
    "print(s[m-1])"
   ],
   "metadata": {
    "collapsed": false
   }
  },
  {
   "cell_type": "code",
   "execution_count": null,
   "outputs": [],
   "source": [
    "\n",
    "n = int(input())\n",
    "cnt = n  # 记录瓶盖\n",
    "ans = n  # 记录饮料数\n",
    "\n",
    "while cnt>=3:\n",
    "    ans += cnt//3\n",
    "    cnt = cnt//3 + cnt%3\n",
    "\n",
    "print(ans)"
   ],
   "metadata": {
    "collapsed": false,
    "pycharm": {
     "is_executing": true
    }
   }
  },
  {
   "cell_type": "code",
   "execution_count": null,
   "outputs": [],
   "source": [
    "# 质因数分解\n",
    "def is_primenumber(x):\n",
    "    liter_x = int(x/2)\n",
    "    for i in range(2,liter_x+1):\n",
    "        if x%i == 0:\n",
    "            return 0\n",
    "    return 1\n",
    "n = int(input())\n",
    "\n",
    "liter_n = int(n/2)\n",
    "\n",
    "a = []\n",
    "for i in range(2,liter_n+1):\n",
    "    if n%i == 0 and is_primenumber(i):\n",
    "        a.append(i)\n",
    "\n",
    "for j in range(len(a)):\n",
    "    ans = int(n/a[j])\n",
    "    if ans in a:\n",
    "        break\n",
    "print(ans)"
   ],
   "metadata": {
    "collapsed": false,
    "pycharm": {
     "is_executing": true
    }
   }
  },
  {
   "cell_type": "code",
   "execution_count": 1,
   "outputs": [
    {
     "name": "stdout",
     "output_type": "stream",
     "text": [
      "2 3 5 7 11 13 17 19 23 29 31 37 41 43 47 53\n",
      "16\n"
     ]
    }
   ],
   "source": [
    "# def is_primenumber(x):\n",
    "#     liter_x = int(x**(0.5))\n",
    "#     for i in range(2,liter_x+1):\n",
    "#         if x%i == 0:\n",
    "#             return 0\n",
    "#     return 1\n",
    "#\n",
    "#\n",
    "# n = 1000\n",
    "# a = []\n",
    "# for i in range(2,n):\n",
    "#   if is_primenumber(i):\n",
    "#       a.append(i)\n",
    "# print(a)\n",
    "# print(len(a))\n",
    "\n",
    "\n",
    "a = [2, 3, 5, 7, 11, 13, 17, 19, 23, 29, 31, 37, 41, 43, 47, 53, 59, 61, 67, 71, 73, 79, 83, 89, 97, 101, 103, 107,109,113, 127, 131, 137, 139, 149, 151, 157, 163, 167, 173, 179, 181, 191, 193, 197, 199, 211, 223, 227, 229, 233, 239, 241, 251, 257, 263, 269, 271, 277, 281, 283, 293, 307, 311, 313, 317, 331, 337, 347, 349, 353, 359, 367, 373, 379, 383, 389, 397, 401, 409, 419, 421, 431, 433, 439, 443, 449, 457, 461, 463, 467, 479, 487, 491, 499, 503, 509, 521, 523, 541, 547, 557, 563, 569, 571, 577, 587, 593, 599, 601, 607, 613, 617, 619, 631, 641, 643, 647, 653, 659, 661, 673, 677, 683, 691, 701, 709, 719, 727, 733, 739, 743, 751, 757, 761, 769, 773, 787, 797, 809, 811, 821, 823, 827, 829, 839, 853, 857, 859, 863, 877, 881, 883, 887, 907, 911, 919, 929, 937, 941, 947, 953, 967, 971, 977, 983, 991, 997]\n",
    "\n",
    "n = int(input())\n",
    "cnt = 0\n",
    "b = []\n",
    "for i in range(168):\n",
    "    if a[i] < n:\n",
    "        b.append(a[i])\n",
    "        cnt += 1\n",
    "    else:\n",
    "        break\n",
    "print(*b)\n",
    "print(cnt)"
   ],
   "metadata": {
    "collapsed": false
   }
  },
  {
   "cell_type": "code",
   "execution_count": 21,
   "outputs": [
    {
     "name": "stdout",
     "output_type": "stream",
     "text": [
      "10\n"
     ]
    }
   ],
   "source": [
    "# 等差数列\n",
    "n = int(input())\n",
    "a = list(map(int,input().split()))\n",
    "a.sort()\n",
    "d = int(1e9)\n",
    "for i in range(n-1):\n",
    "  d = min(d,abs(a[i]-a[i+1]))\n",
    "\n",
    "m = (a[n-1]-a[0])/d + 1\n",
    "print(int(m))\n"
   ],
   "metadata": {
    "collapsed": false
   }
  },
  {
   "cell_type": "code",
   "execution_count": 8,
   "outputs": [
    {
     "ename": "ValueError",
     "evalue": "not enough values to unpack (expected 2, got 0)",
     "output_type": "error",
     "traceback": [
      "\u001B[1;31m---------------------------------------------------------------------------\u001B[0m",
      "\u001B[1;31mValueError\u001B[0m                                Traceback (most recent call last)",
      "\u001B[1;32m<ipython-input-8-bdb1b218ff4a>\u001B[0m in \u001B[0;36m<module>\u001B[1;34m()\u001B[0m\n\u001B[0;32m     11\u001B[0m       \u001B[0mvis\u001B[0m\u001B[1;33m[\u001B[0m\u001B[0mnx\u001B[0m\u001B[1;33m]\u001B[0m\u001B[1;33m[\u001B[0m\u001B[0mny\u001B[0m\u001B[1;33m]\u001B[0m \u001B[1;33m=\u001B[0m \u001B[1;36m1\u001B[0m\u001B[1;33m\u001B[0m\u001B[0m\n\u001B[0;32m     12\u001B[0m \u001B[1;33m\u001B[0m\u001B[0m\n\u001B[1;32m---> 13\u001B[1;33m \u001B[0mn\u001B[0m\u001B[1;33m,\u001B[0m\u001B[0mm\u001B[0m \u001B[1;33m=\u001B[0m \u001B[0mmap\u001B[0m\u001B[1;33m(\u001B[0m\u001B[0mint\u001B[0m\u001B[1;33m,\u001B[0m\u001B[0minput\u001B[0m\u001B[1;33m(\u001B[0m\u001B[1;33m)\u001B[0m\u001B[1;33m.\u001B[0m\u001B[0msplit\u001B[0m\u001B[1;33m(\u001B[0m\u001B[1;33m)\u001B[0m\u001B[1;33m)\u001B[0m\u001B[1;33m\u001B[0m\u001B[0m\n\u001B[0m\u001B[0;32m     14\u001B[0m \u001B[0mmp\u001B[0m \u001B[1;33m=\u001B[0m \u001B[1;33m[\u001B[0m\u001B[0mlist\u001B[0m\u001B[1;33m(\u001B[0m\u001B[0mmap\u001B[0m\u001B[1;33m(\u001B[0m\u001B[0mint\u001B[0m\u001B[1;33m,\u001B[0m\u001B[0minput\u001B[0m\u001B[1;33m(\u001B[0m\u001B[1;33m)\u001B[0m\u001B[1;33m.\u001B[0m\u001B[0msplit\u001B[0m\u001B[1;33m(\u001B[0m\u001B[1;33m)\u001B[0m\u001B[1;33m)\u001B[0m\u001B[1;33m)\u001B[0m \u001B[1;32mfor\u001B[0m \u001B[0m_\u001B[0m \u001B[1;32min\u001B[0m \u001B[0mrange\u001B[0m\u001B[1;33m(\u001B[0m\u001B[0mn\u001B[0m\u001B[1;33m)\u001B[0m\u001B[1;33m]\u001B[0m\u001B[1;33m\u001B[0m\u001B[0m\n\u001B[0;32m     15\u001B[0m \u001B[0mvis\u001B[0m \u001B[1;33m=\u001B[0m \u001B[1;33m[\u001B[0m\u001B[1;33m[\u001B[0m\u001B[1;36m0\u001B[0m\u001B[1;33m]\u001B[0m\u001B[1;33m*\u001B[0m\u001B[0mm\u001B[0m \u001B[1;32mfor\u001B[0m \u001B[0m_\u001B[0m \u001B[1;32min\u001B[0m \u001B[0mrange\u001B[0m\u001B[1;33m(\u001B[0m\u001B[0mn\u001B[0m\u001B[1;33m)\u001B[0m\u001B[1;33m]\u001B[0m\u001B[1;33m\u001B[0m\u001B[0m\n",
      "\u001B[1;31mValueError\u001B[0m: not enough values to unpack (expected 2, got 0)"
     ]
    }
   ],
   "source": [
    "# 滑行\n",
    "def dfs(x,y,cnt):\n",
    "  global ans\n",
    "  if vis[x][y] == 1:\n",
    "    ans = max(ans,cnt)\n",
    "  d = [(-1,0),(0,1),(1,0),(0,-1)]\n",
    "  for i in range(4):\n",
    "    nx,ny = x+d[i][0],y+d[i][1]\n",
    "    if 0<=nx<n and 0<=ny<m and vis[nx][ny] == 0 and mp[nx][ny] > mp[x][y] :\n",
    "      vis[nx][ny] = 1\n",
    "      dfs(nx,ny,cnt+1)\n",
    "      vis[nx][ny] = 1\n",
    "\n",
    "n,m = map(int,input().split())\n",
    "mp = [list(map(int,input().split())) for _ in range(n)]\n",
    "vis = [[0]*m for _ in range(n)]\n",
    "\n",
    "ans = 0\n",
    "for i in range(n):\n",
    "  for j in range(m):\n",
    "    dfs(i,j,1)\n",
    "\n",
    "print(ans)"
   ],
   "metadata": {
    "collapsed": false
   }
  },
  {
   "cell_type": "code",
   "execution_count": 15,
   "outputs": [
    {
     "name": "stdout",
     "output_type": "stream",
     "text": [
      "1713\n"
     ]
    }
   ],
   "source": [
    "# 合数\n",
    "def is_prime(n):\n",
    "  m = int(n**(0.5))\n",
    "  for i in range(2,m+1):\n",
    "    if n%i == 0:\n",
    "      return 0\n",
    "  return 1\n",
    "\n",
    "a = []\n",
    "for i in range(2,2021):\n",
    "  if is_prime(i) == 0:\n",
    "    a.append(i)\n",
    "\n",
    "print(len(a))"
   ],
   "metadata": {
    "collapsed": false
   }
  },
  {
   "cell_type": "code",
   "execution_count": 2,
   "outputs": [
    {
     "data": {
      "text/plain": "[1, 2, 3, 5, 4]"
     },
     "execution_count": 2,
     "metadata": {},
     "output_type": "execute_result"
    }
   ],
   "source": [
    "a = [1,2,3,4]\n",
    "a.insert(3,5)\n",
    "a"
   ],
   "metadata": {
    "collapsed": false
   }
  },
  {
   "cell_type": "code",
   "execution_count": null,
   "outputs": [],
   "source": [],
   "metadata": {
    "collapsed": false
   }
  }
 ],
 "metadata": {
  "kernelspec": {
   "display_name": "Python 3",
   "language": "python",
   "name": "python3"
  },
  "language_info": {
   "codemirror_mode": {
    "name": "ipython",
    "version": 2
   },
   "file_extension": ".py",
   "mimetype": "text/x-python",
   "name": "python",
   "nbconvert_exporter": "python",
   "pygments_lexer": "ipython2",
   "version": "2.7.6"
  }
 },
 "nbformat": 4,
 "nbformat_minor": 0
}
