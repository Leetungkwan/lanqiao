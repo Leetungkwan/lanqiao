{
 "cells": [
  {
   "cell_type": "code",
   "execution_count": 5,
   "metadata": {
    "collapsed": true
   },
   "outputs": [],
   "source": [
    "import os\n",
    "import sys"
   ]
  },
  {
   "cell_type": "code",
   "execution_count": 1,
   "outputs": [
    {
     "ename": "IndexError",
     "evalue": "list index out of range",
     "output_type": "error",
     "traceback": [
      "\u001B[1;31m---------------------------------------------------------------------------\u001B[0m",
      "\u001B[1;31mIndexError\u001B[0m                                Traceback (most recent call last)",
      "\u001B[1;32m<ipython-input-1-8df7173d6277>\u001B[0m in \u001B[0;36m<module>\u001B[1;34m()\u001B[0m\n\u001B[0;32m     30\u001B[0m   \u001B[1;32mfor\u001B[0m \u001B[0mi\u001B[0m \u001B[1;32min\u001B[0m \u001B[0mrange\u001B[0m\u001B[1;33m(\u001B[0m\u001B[1;36m4\u001B[0m\u001B[1;33m)\u001B[0m\u001B[1;33m:\u001B[0m\u001B[1;33m\u001B[0m\u001B[0m\n\u001B[0;32m     31\u001B[0m     \u001B[0mnx\u001B[0m\u001B[1;33m,\u001B[0m\u001B[0mny\u001B[0m \u001B[1;33m=\u001B[0m \u001B[0mx\u001B[0m\u001B[1;33m+\u001B[0m\u001B[0mdir\u001B[0m\u001B[1;33m[\u001B[0m\u001B[0mi\u001B[0m\u001B[1;33m]\u001B[0m\u001B[1;33m[\u001B[0m\u001B[1;36m0\u001B[0m\u001B[1;33m]\u001B[0m\u001B[1;33m,\u001B[0m\u001B[0my\u001B[0m\u001B[1;33m+\u001B[0m\u001B[0mdir\u001B[0m\u001B[1;33m[\u001B[0m\u001B[0mi\u001B[0m\u001B[1;33m]\u001B[0m\u001B[1;33m[\u001B[0m\u001B[1;36m1\u001B[0m\u001B[1;33m]\u001B[0m\u001B[1;33m\u001B[0m\u001B[0m\n\u001B[1;32m---> 32\u001B[1;33m     \u001B[1;32mif\u001B[0m \u001B[1;36m0\u001B[0m\u001B[1;33m<=\u001B[0m\u001B[0mnx\u001B[0m\u001B[1;33m<\u001B[0m\u001B[1;36m4\u001B[0m \u001B[1;32mand\u001B[0m \u001B[1;36m0\u001B[0m\u001B[1;33m<=\u001B[0m\u001B[0mny\u001B[0m\u001B[1;33m<\u001B[0m\u001B[1;36m6\u001B[0m \u001B[1;32mand\u001B[0m \u001B[0mmp\u001B[0m\u001B[1;33m[\u001B[0m\u001B[0mnx\u001B[0m\u001B[1;33m]\u001B[0m\u001B[1;33m[\u001B[0m\u001B[0mny\u001B[0m\u001B[1;33m]\u001B[0m \u001B[1;33m==\u001B[0m \u001B[1;34m'0'\u001B[0m \u001B[1;32mand\u001B[0m \u001B[0mvis\u001B[0m\u001B[1;33m[\u001B[0m\u001B[0mnx\u001B[0m\u001B[1;33m]\u001B[0m\u001B[1;33m[\u001B[0m\u001B[0mny\u001B[0m\u001B[1;33m]\u001B[0m \u001B[1;33m==\u001B[0m \u001B[1;36m0\u001B[0m\u001B[1;33m:\u001B[0m\u001B[1;33m\u001B[0m\u001B[0m\n\u001B[0m\u001B[0;32m     33\u001B[0m       \u001B[0mvis\u001B[0m\u001B[1;33m[\u001B[0m\u001B[0mnx\u001B[0m\u001B[1;33m]\u001B[0m\u001B[1;33m[\u001B[0m\u001B[0mny\u001B[0m\u001B[1;33m]\u001B[0m \u001B[1;33m=\u001B[0m \u001B[1;36m1\u001B[0m\u001B[1;33m\u001B[0m\u001B[0m\n\u001B[0;32m     34\u001B[0m       \u001B[0mpre\u001B[0m\u001B[1;33m[\u001B[0m\u001B[0mnx\u001B[0m\u001B[1;33m]\u001B[0m\u001B[1;33m[\u001B[0m\u001B[0mny\u001B[0m\u001B[1;33m]\u001B[0m \u001B[1;33m=\u001B[0m \u001B[0md\u001B[0m\u001B[1;33m[\u001B[0m\u001B[0mi\u001B[0m\u001B[1;33m]\u001B[0m\u001B[1;33m\u001B[0m\u001B[0m\n",
      "\u001B[1;31mIndexError\u001B[0m: list index out of range"
     ]
    }
   ],
   "source": [
    "# 迷宫-最短路径bfs\n",
    "from queue import Queue\n",
    "def print_path(x,y):\n",
    "  if x==0 and y==0: return\n",
    "  if pre[x][y] == 'D': print_path(x-1,y)\n",
    "  if pre[x][y] == 'L': print_path(x,y+1)\n",
    "  if pre[x][y] == 'R': print_path(x,y-1)\n",
    "  if pre[x][y] == 'U': print_path(x+1,y)\n",
    "  print(pre[x][y],end='')\n",
    "\n",
    "\n",
    "mp = [list(input()) for _ in range(4)]\n",
    "\n",
    "vis = [[0]*6 for _ in range(4)]\n",
    "\n",
    "pre = [[0]*6 for _ in range(4)]\n",
    "\n",
    "d = ['D','L','R','U']\n",
    "dir = [(1,0),(0,-1),(0,1),(-1,0)]\n",
    "\n",
    "vis[0][0] = 1\n",
    "\n",
    "q = Queue()\n",
    "\n",
    "q.put((0,0))\n",
    "\n",
    "while q.qsize() != 0:\n",
    "  x,y = q.get()\n",
    "  if x==3 and y==5 :print_path(3,5);exit(0)\n",
    "  for i in range(4):\n",
    "    nx,ny = x+dir[i][0],y+dir[i][1]\n",
    "    if 0<=nx<4 and 0<=ny<6 and mp[nx][ny] == '0' and vis[nx][ny] == 0:\n",
    "      vis[nx][ny] = 1\n",
    "      pre[nx][ny] = d[i]\n",
    "      q.put((nx,ny))"
   ],
   "metadata": {
    "collapsed": false
   }
  },
  {
   "cell_type": "code",
   "execution_count": 4,
   "outputs": [
    {
     "name": "stdout",
     "output_type": "stream",
     "text": [
      "152\n"
     ]
    }
   ],
   "source": [
    "from itertools import *\n",
    "from collections import *\n",
    "def bfs(con):\n",
    "  q = deque()\n",
    "  q.append(con[0])\n",
    "  vis[con[0]] = 1\n",
    "  cnt = 1\n",
    "  while q:\n",
    "    x = q.popleft()\n",
    "##    print(x)\n",
    "    for i in (-5,+5,-1,+1):\n",
    "      nx = x+i\n",
    "      if 1<=nx<=14 and (nx in con) and vis[nx] == 0:\n",
    "        vis[nx] = 1\n",
    "        q.append(nx)\n",
    "        cnt += 1\n",
    "  if cnt == 5:\n",
    "    return 1\n",
    "  else:\n",
    "    return 0\n",
    "\n",
    "\n",
    "\n",
    "mp = [1,2,3,4,6,7,8,9,11,12,13,14]\n",
    "ans = 0\n",
    "for elements in combinations(mp,5):\n",
    "  vis = [0]*15\n",
    "  if bfs(elements): ans += 1\n",
    "\n",
    "print(ans)\n"
   ],
   "metadata": {
    "collapsed": false
   }
  },
  {
   "cell_type": "code",
   "execution_count": null,
   "outputs": [],
   "source": [
    "# 青蛙跳杯子\n",
    "a,b = input(),input()\n",
    "vis = set()\n",
    "\n",
    "n = len(a)\n",
    "\n",
    "q = deque()\n",
    "\n",
    "\n",
    "def change_str(s,i,j):\n",
    "  lst = list(s)\n",
    "  lst[i],lst[j] = lst[j],lst[i]\n",
    "  return ''.join(lst)\n",
    "\n",
    "vis.add(a)\n",
    "q.append(a)\n",
    "cnt = -1\n",
    "while q:\n",
    "  cnt += 1\n",
    "  for _ in range(len(q)): # 非常重要，设计到cnt的计数问题\n",
    "    s = q.popleft()\n",
    "    if s == b: print(cnt)\n",
    "    i = s.find('*')\n",
    "    for j in range(i-3,i+4):\n",
    "      if 0<=j<n:\n",
    "        s_new = change_str(s,i,j)\n",
    "        if s_new not in vis:\n",
    "          q.append(s_new)\n",
    "          vis.add(s_new)"
   ],
   "metadata": {
    "collapsed": false
   }
  },
  {
   "cell_type": "code",
   "execution_count": null,
   "outputs": [],
   "source": [
    "# 长草-模拟赛\n",
    "\n",
    "def bfs(x,y):\n",
    "  q = deque()\n",
    "  q.append((x,y))\n",
    "  d = [(-1,0),(0,1),(1,0),(0,-1)]\n",
    "  x,y = q.popleft()\n",
    "  for i in range(4):\n",
    "    nx,ny = x+d[i][0],y+d[i][1]\n",
    "    if 0<=nx<n and 0<=ny<m and mp[nx][ny] == '.' and vis[nx][ny] == 0:  # vis[nx][ny]可以不写，但为了不记忆少东西，建议写\n",
    "      vis[nx][ny] = 1\n",
    "      mp[nx][ny] = 'g'\n",
    "      q.append((nx,ny))\n",
    "\n",
    "n,m = map(int,input().split())\n",
    "mp = [list(input()) for _ in range(n)]\n",
    "k = int(input())\n",
    "\n",
    "\n",
    "\n",
    "for _ in range(k):  # 几多个月就循环几多次\n",
    "  vis = [[0]*m for _ in range(n)]  # 每个月都重新置0\n",
    "  for i in range(n):\n",
    "    for j in range(m):\n",
    "      if mp[i][j] == 'g' and vis[i][j] == 0:\n",
    "        vis[i][j] = 1\n",
    "        bfs(i,j)\n",
    "\n",
    "for l in range(n):\n",
    "  print(''.join(mp[l]))"
   ],
   "metadata": {
    "collapsed": false
   }
  },
  {
   "cell_type": "code",
   "execution_count": 27,
   "outputs": [],
   "source": [
    "# 华容道\n",
    "mp = [input() for _ in range(2)]\n",
    "a = ''.join(mp)\n",
    "##print(s_start)\n",
    "A = a.find('A')\n",
    "B = a.find('B')\n",
    "\n",
    "vis = set() # 状态去重\n",
    "\n",
    "def change_str(s,i,j):\n",
    "    lst = list(s)\n",
    "    lst[i],lst[j] = lst[j],lst[i]\n",
    "    return ''.join(lst)\n",
    "\n",
    "q = deque()\n",
    "q.append(a)\n",
    "vis.add(a)\n",
    "cnt = -1\n",
    "while q:\n",
    "  cnt += 1\n",
    "  for _ in range(len(q)):\n",
    "    s = q.popleft()\n",
    "    if s[A] == 'B' and s[B] == 'A':print(cnt);sys.exit()\n",
    "    i = s.find(' ')\n",
    "    d = [(i+1,i+3),(i-1,i+1,i+3),(i-1,i+3),(i+1,i-3),(i-1,i+1,i-3),(i-1,i-3)]\n",
    "    for j in d[i]:\n",
    "      s_new = change_str(s,i,j)\n",
    "      if s_new not in vis:\n",
    "       vis.add(s_new)\n",
    "       q.append(s_new)"
   ],
   "metadata": {
    "collapsed": false
   }
  }
 ],
 "metadata": {
  "kernelspec": {
   "display_name": "Python 3",
   "language": "python",
   "name": "python3"
  },
  "language_info": {
   "codemirror_mode": {
    "name": "ipython",
    "version": 2
   },
   "file_extension": ".py",
   "mimetype": "text/x-python",
   "name": "python",
   "nbconvert_exporter": "python",
   "pygments_lexer": "ipython2",
   "version": "2.7.6"
  }
 },
 "nbformat": 4,
 "nbformat_minor": 0
}
