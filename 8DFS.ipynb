{
 "cells": [
  {
   "cell_type": "code",
   "execution_count": 2,
   "metadata": {
    "collapsed": true
   },
   "outputs": [],
   "source": [
    "import os\n",
    "import sys"
   ]
  },
  {
   "cell_type": "markdown",
   "source": [
    "递归的条件其实不复杂，你不要考虑它是从大到小，你考虑它是从小到大，从中考虑条件。再不济就列出三四个数字"
   ],
   "metadata": {
    "collapsed": false
   }
  },
  {
   "cell_type": "code",
   "execution_count": 3,
   "outputs": [
    {
     "name": "stdout",
     "output_type": "stream",
     "text": [
      "410615886307971260333568378719267105220125108637369252408885430926905584274113403731330491660850044560830036835706942274588569362145476502674373045446852160486606292497360503469773453733196887405847255290082049086907512622059054542195889758031109222670849274793859539133318371244795543147611073276240066737934085191731810993201706776838934766764778739502174470268627820918553842225858306408301661862900358266857238210235802504351951472997919676524004784236376453347268364152648346245840573214241419937917242918602639810097866942392015404620153818671425739835074851396421139982713640679581178458198658692285968043243656709796000\n",
      "5997\n"
     ]
    }
   ],
   "source": [
    "# 斐波那契数列记忆化存储  求fib(20)\n",
    "sys.setrecursionlimit(30000) #设置递归深度\n",
    "\n",
    "def fib(n):\n",
    "    global cnt # 全局变量表示\n",
    "    cnt += 1    # 只要进来了这个函数，就必须计数\n",
    "    if n == 1 or n == 2:    # 递归退出条件\n",
    "        data[n] = 1       # 斐波那契数列的第一第二个数是1\n",
    "        return data[n]\n",
    "    if data[n] != 0:  # 在递归之前检验fib（n）有无被计算过，有则直接返回，扼杀在摇篮中;属于剪枝的一种\n",
    "        return data[n]\n",
    "    data[n] = fib(n-1) + fib(n-2) # 进行递归，并且有返回\n",
    "    return data[n]\n",
    "\n",
    "\n",
    "data = [0]*3005  # 用来存储fib(1) ~ fib(n)\n",
    "cnt = 0 # 记录递归次数\n",
    "n = 20\n",
    "print(fib(3000))\n",
    "print(cnt)"
   ],
   "metadata": {
    "collapsed": false
   }
  },
  {
   "cell_type": "code",
   "execution_count": 7,
   "outputs": [
    {
     "ename": "ValueError",
     "evalue": "invalid literal for int() with base 10: '.#.'",
     "output_type": "error",
     "traceback": [
      "\u001B[1;31m---------------------------------------------------------------------------\u001B[0m",
      "\u001B[1;31mValueError\u001B[0m                                Traceback (most recent call last)",
      "\u001B[1;32m<ipython-input-7-6350df2c5202>\u001B[0m in \u001B[0;36m<module>\u001B[1;34m()\u001B[0m\n\u001B[0;32m     25\u001B[0m '''\n\u001B[0;32m     26\u001B[0m \u001B[0mcnt\u001B[0m \u001B[1;33m=\u001B[0m \u001B[1;36m0\u001B[0m\u001B[1;33m\u001B[0m\u001B[0m\n\u001B[1;32m---> 27\u001B[1;33m \u001B[0mn\u001B[0m\u001B[1;33m,\u001B[0m\u001B[0mm\u001B[0m \u001B[1;33m=\u001B[0m \u001B[0mmap\u001B[0m\u001B[1;33m(\u001B[0m\u001B[0mint\u001B[0m\u001B[1;33m,\u001B[0m\u001B[0minput\u001B[0m\u001B[1;33m(\u001B[0m\u001B[1;33m)\u001B[0m\u001B[1;33m.\u001B[0m\u001B[0msplit\u001B[0m\u001B[1;33m(\u001B[0m\u001B[1;33m)\u001B[0m\u001B[1;33m)\u001B[0m\u001B[1;33m\u001B[0m\u001B[0m\n\u001B[0m\u001B[0;32m     28\u001B[0m \u001B[0mmp\u001B[0m \u001B[1;33m=\u001B[0m \u001B[1;33m[\u001B[0m\u001B[0mlist\u001B[0m\u001B[1;33m(\u001B[0m\u001B[0minput\u001B[0m\u001B[1;33m(\u001B[0m\u001B[1;33m)\u001B[0m\u001B[1;33m)\u001B[0m \u001B[1;32mfor\u001B[0m \u001B[0m_\u001B[0m \u001B[1;32min\u001B[0m \u001B[0mrange\u001B[0m\u001B[1;33m(\u001B[0m\u001B[0mn\u001B[0m\u001B[1;33m)\u001B[0m\u001B[1;33m]\u001B[0m\u001B[1;33m\u001B[0m\u001B[0m\n\u001B[0;32m     29\u001B[0m \u001B[0mvis\u001B[0m \u001B[1;33m=\u001B[0m \u001B[1;33m[\u001B[0m\u001B[0mlist\u001B[0m\u001B[1;33m(\u001B[0m\u001B[1;33m[\u001B[0m\u001B[1;36m0\u001B[0m\u001B[1;33m]\u001B[0m\u001B[1;33m*\u001B[0m\u001B[0mm\u001B[0m\u001B[1;33m)\u001B[0m \u001B[1;32mfor\u001B[0m \u001B[0m_\u001B[0m \u001B[1;32min\u001B[0m \u001B[0mrange\u001B[0m\u001B[1;33m(\u001B[0m\u001B[0mn\u001B[0m\u001B[1;33m)\u001B[0m\u001B[1;33m]\u001B[0m\u001B[1;33m\u001B[0m\u001B[0m\n",
      "\u001B[1;31mValueError\u001B[0m: invalid literal for int() with base 10: '.#.'"
     ]
    }
   ],
   "source": [
    "# 光头出的路径题\n",
    "sys.setrecursionlimit(30000)\n",
    "\n",
    "def dfs(x,y):\n",
    "    global cnt\n",
    "    if x==ex and y==ey:\n",
    "        cnt += 1\n",
    "        print(f\"{cnt}:{b[x][y]} -> {x}{y}\")\n",
    "    d = [(0,-1),(-1,0),(0,1),(1,0)]\n",
    "    for i in range(4):\n",
    "        nx,ny = x+d[i][0],y+d[i][1]\n",
    "        if 0<=nx<n and 0<=ny<m and mp[nx][ny] != '#' and vis[nx][ny] == 0:\n",
    "            vis[nx][ny] = 1\n",
    "            b[nx][ny] = b[x][y] + '->' + str(nx) + str(ny)\n",
    "            dfs(nx,ny)\n",
    "            vis[nx][ny] = 0\n",
    "\n",
    "'''\n",
    "5 3\n",
    ".#.\n",
    "#@.\n",
    "*..\n",
    "...\n",
    "#.#\n",
    "'''\n",
    "cnt = 0\n",
    "n,m = map(int,input().split())\n",
    "mp = [list(input()) for _ in range(n)]\n",
    "vis = [list([0]*m) for _ in range(n)]\n",
    "b = [[0]*(m+10) for _ in range(n)]\n",
    "for i in range(n):\n",
    "    for j in range(m):\n",
    "        if mp[i][j] == '@':\n",
    "            sx,sy = i,j\n",
    "        if mp[i][j] == '*':\n",
    "            ex,ey = i,j\n",
    "b[sx][sy] =  str(sx)+str(sy)\n",
    "vis[sx][sy] = 1\n",
    "dfs(sx,sy)\n"
   ],
   "metadata": {
    "collapsed": false
   }
  },
  {
   "cell_type": "code",
   "execution_count": 33,
   "outputs": [
    {
     "name": "stdout",
     "output_type": "stream",
     "text": [
      "A->C A->B A->C \n",
      "A->C A->B A->C C->B \n",
      "A->C A->B A->C C->B B->C B->A \n",
      "A->C A->B A->C C->B B->C B->A A->C \n",
      "7\n"
     ]
    }
   ],
   "source": [
    "# 尝试使用dfs结构手写hanoi塔\n",
    "sys.setrecursionlimit(30000)\n",
    "def hanoi(n,x,y,z): # n个盘子从x->z by y\n",
    "    global cnt\n",
    "    if n == 1:   # 退出条件\n",
    "        cnt += 1\n",
    "        p[cnt] =p[cnt-1]+ x + '->' + z +' '\n",
    "        print(p[cnt])\n",
    "    else:\n",
    "        cnt += 1\n",
    "        p[cnt] = p[cnt-1]+ x + '->' + z + ' '\n",
    "        hanoi(n-1,x,z,y)\n",
    "        hanoi(n-1,y,x,z)\n",
    "\n",
    "\n",
    "cnt = 0 #计算移动了多少次\n",
    "n = 3\n",
    "p = ['']*10\n",
    "hanoi(n,'A','B','C')\n",
    "print(cnt)"
   ],
   "metadata": {
    "collapsed": false
   }
  },
  {
   "cell_type": "code",
   "execution_count": 43,
   "outputs": [
    {
     "name": "stdout",
     "output_type": "stream",
     "text": [
      "[1, 2, 3]\n",
      "[1, 3, 2]\n",
      "[2, 1, 3]\n",
      "[2, 3, 1]\n",
      "[3, 1, 2]\n",
      "[3, 2, 1]\n"
     ]
    }
   ],
   "source": [
    "# DFS自写排列算法，常用\n",
    "sys.setrecursionlimit(30000)\n",
    "def dfs(l,r):\n",
    "    if l==r:          # 退出条件\n",
    "        print(b[0:n])\n",
    "    else:\n",
    "        for i in range(r):  # 采用的方法不同，遍历的range不同\n",
    "            if vis[i] == False:   # 没用过，可以使用\n",
    "                vis[i] = True     # 封锁现场\n",
    "                b[l] = a[i]       # 最难捻的一点\n",
    "                dfs(l+1,r)\n",
    "                vis[i] = False    # 恢复现场，重新生成下一个全排列\n",
    "\n",
    "a = [1,2,3,4,5,6]\n",
    "n = 3\n",
    "vis = [False]*100\n",
    "b = [0]*100\n",
    "dfs(0,n)"
   ],
   "metadata": {
    "collapsed": false
   }
  },
  {
   "cell_type": "code",
   "execution_count": 9,
   "outputs": [
    {
     "name": "stdout",
     "output_type": "stream",
     "text": [
      "\n",
      "3 \n",
      "2 \n",
      "2 3 \n",
      "1 \n",
      "1 3 \n",
      "1 2 \n",
      "1 2 3 \n"
     ]
    }
   ],
   "source": [
    "# 自写组合算法\n",
    "def dfs(n):\n",
    "    if n == 3:\n",
    "        for i in range(n+1):\n",
    "            if vis[i] == 1:\n",
    "                print(a[i],end=' ')\n",
    "        print()\n",
    "    else:\n",
    "        vis[n] = 0     # 不选n，深搜\n",
    "        dfs(n+1)\n",
    "        vis[n] = 1     # 选n，深搜\n",
    "        dfs(n+1)\n",
    "\n",
    "\n",
    "a = [1,2,3,4]\n",
    "vis = [0]*10\n",
    "dfs(0)"
   ],
   "metadata": {
    "collapsed": false,
    "pycharm": {
     "name": "#%%犯得上发生\n"
    }
   }
  },
  {
   "cell_type": "code",
   "execution_count": 7,
   "outputs": [
    {
     "name": "stdout",
     "output_type": "stream",
     "text": [
      "31\n"
     ]
    }
   ],
   "source": [
    "# 迷宫\n",
    "\n",
    "sys.setrecursionlimit(30000)\n",
    "\n",
    "def dfs(x,y):\n",
    "    if x<0 or x>9 or y<0 or y>9:  return 1\n",
    "    if vis[x][y] == 1:            return 0\n",
    "    vis[x][y] = 1\n",
    "    if mp[x][y] == 'U':        return dfs(x-1,y)\n",
    "    if mp[x][y] == 'R':        return dfs(x,y+1)\n",
    "    if mp[x][y] == 'D':        return dfs(x+1,y)\n",
    "    if mp[x][y] == 'L':        return dfs(x,y-1)\n",
    "\n",
    "\n",
    "mp = [['U','D','D','L','U','U','L','R','U','L'],['U','U','R','L','L','L','R','R','R','U'],\n",
    "      ['R','R','U','U','R','L','D','L','R','D'],['R','U','D','D','D','U','U','U','U','U'],\n",
    "      ['U','R','U','D','L','L','R','R','U','U'],['D','U','R','L','R','L','D','L','R','L'],\n",
    "      ['U','L','L','U','R','L','L','R','D','U'],['R','D','L','U','L','L','R','D','D','D'],\n",
    "      ['U','U','D','D','U','D','U','D','L','L'],['U','L','R','D','L','U','U','R','R','R']]\n",
    "\n",
    "\n",
    "\n",
    "cnt = 0\n",
    "for i in range(10):\n",
    "    for j in range(10):\n",
    "        vis = [[0]*10 for _ in range(10)]  # 恢复现场的功能\n",
    "        if dfs(i,j) == 1: cnt += 1\n",
    "print(cnt)"
   ],
   "metadata": {
    "collapsed": false
   }
  },
  {
   "cell_type": "code",
   "execution_count": 6,
   "outputs": [
    {
     "name": "stdout",
     "output_type": "stream",
     "text": [
      "31\n"
     ]
    }
   ],
   "source": [
    "# 自写优化迷宫\n",
    "\n",
    "cnt = 0\n",
    "def dfs(x,y):\n",
    "    global cnt\n",
    "    if x<0 or x>9 or y<0 or y>9:\n",
    "        cnt += 1\n",
    "        return\n",
    "    if vis[x][y] == 0:\n",
    "        vis[x][y] = 1\n",
    "        if mp[x][y] == 'U': dfs(x-1,y)\n",
    "        if mp[x][y] == 'D': dfs(x+1,y)\n",
    "        if mp[x][y] == 'L': dfs(x,y-1)\n",
    "        if mp[x][y] == 'R': dfs(x,y+1)\n",
    "        vis[x][y] = 0\n",
    "mp = [['U','D','D','L','U','U','L','R','U','L'],['U','U','R','L','L','L','R','R','R','U'],\n",
    "      ['R','R','U','U','R','L','D','L','R','D'],['R','U','D','D','D','U','U','U','U','U'],\n",
    "      ['U','R','U','D','L','L','R','R','U','U'],['D','U','R','L','R','L','D','L','R','L'],\n",
    "      ['U','L','L','U','R','L','L','R','D','U'],['R','D','L','U','L','L','R','D','D','D'],\n",
    "      ['U','U','D','D','U','D','U','D','L','L'],['U','L','R','D','L','U','U','R','R','R']]\n",
    "\n",
    "vis = [[0]*10 for _ in range(10)]\n",
    "for i in range(10):\n",
    "    for j in range(10):\n",
    "        dfs(i,j)\n",
    "print(cnt)"
   ],
   "metadata": {
    "collapsed": false
   }
  },
  {
   "cell_type": "code",
   "execution_count": null,
   "outputs": [],
   "source": [
    "# 全球变暖 - 最大连通性判断\n",
    "sys.setrecursionlimit(30000)\n",
    "\n",
    "def dfs(x,y):\n",
    "    global flag\n",
    "    # 判断是否为高地\n",
    "    if mp[x-1][y] == '#' and mp[x][y+1] == '#' and mp[x+1][y] == '#' and mp[x][y-1] == '#' and mp[x][y-1] == '#' :\n",
    "        flag = 1 # 为高地\n",
    "    # 判断岛屿，注意边界都为海，不需要考虑边界情况\n",
    "    d = [(0,1),(1,0),(0,-1),(-1,0)]\n",
    "    for i in range(4):\n",
    "        nx,ny = x+d[i][0],y+d[i][1]\n",
    "        if vis[nx][ny] == 0 and mp[nx][ny] == '#':\n",
    "            vis[nx][ny] = 1\n",
    "            dfs(nx,ny)\n",
    "\n",
    "\n",
    "\n",
    "cnt = 0\n",
    "n = int(input())\n",
    "mp = [list(input()) for _ in range(n)] #\n",
    "vis = [[0]*n for _ in range(n)] # 记忆化存储\n",
    "for i in range(n):\n",
    "    for j in range(n):\n",
    "        if vis[i][j] == 0 and mp[i][j] == '#':\n",
    "            vis[i][j] = 1  # 标记已使用过\n",
    "            flag = 0 # 标识非高地陆地\n",
    "            dfs(i,j)\n",
    "            if flag == 0: cnt += 1 # 被淹没的陆地\n",
    "\n",
    "print(cnt)\n"
   ],
   "metadata": {
    "collapsed": false
   }
  },
  {
   "cell_type": "code",
   "execution_count": 8,
   "outputs": [
    {
     "ename": "ValueError",
     "evalue": "not enough values to unpack (expected 2, got 0)",
     "output_type": "error",
     "traceback": [
      "\u001B[1;31m---------------------------------------------------------------------------\u001B[0m",
      "\u001B[1;31mValueError\u001B[0m                                Traceback (most recent call last)",
      "\u001B[1;32m<ipython-input-8-c7057b10f86c>\u001B[0m in \u001B[0;36m<module>\u001B[1;34m()\u001B[0m\n\u001B[0;32m     28\u001B[0m \u001B[0mcnt\u001B[0m \u001B[1;33m=\u001B[0m \u001B[1;36m0\u001B[0m \u001B[1;31m# 记录步数\u001B[0m\u001B[1;33m\u001B[0m\u001B[0m\n\u001B[0;32m     29\u001B[0m \u001B[0mans\u001B[0m \u001B[1;33m=\u001B[0m \u001B[1;36m0\u001B[0m\u001B[1;33m\u001B[0m\u001B[0m\n\u001B[1;32m---> 30\u001B[1;33m \u001B[0mn\u001B[0m\u001B[1;33m,\u001B[0m\u001B[0mm\u001B[0m \u001B[1;33m=\u001B[0m \u001B[0mmap\u001B[0m\u001B[1;33m(\u001B[0m\u001B[0mint\u001B[0m\u001B[1;33m,\u001B[0m\u001B[0minput\u001B[0m\u001B[1;33m(\u001B[0m\u001B[1;33m)\u001B[0m\u001B[1;33m.\u001B[0m\u001B[0msplit\u001B[0m\u001B[1;33m(\u001B[0m\u001B[1;33m)\u001B[0m\u001B[1;33m)\u001B[0m\u001B[1;33m\u001B[0m\u001B[0m\n\u001B[0m\u001B[0;32m     31\u001B[0m \u001B[0mmp\u001B[0m \u001B[1;33m=\u001B[0m \u001B[1;33m[\u001B[0m\u001B[0mlist\u001B[0m\u001B[1;33m(\u001B[0m\u001B[0minput\u001B[0m\u001B[1;33m(\u001B[0m\u001B[1;33m)\u001B[0m\u001B[1;33m.\u001B[0m\u001B[0msplit\u001B[0m\u001B[1;33m(\u001B[0m\u001B[1;33m)\u001B[0m\u001B[1;33m)\u001B[0m \u001B[1;32mfor\u001B[0m \u001B[0m_\u001B[0m \u001B[1;32min\u001B[0m \u001B[0mrange\u001B[0m\u001B[1;33m(\u001B[0m\u001B[0mn\u001B[0m\u001B[1;33m)\u001B[0m\u001B[1;33m]\u001B[0m  \u001B[1;31m# 读入地图\u001B[0m\u001B[1;33m\u001B[0m\u001B[0m\n\u001B[0;32m     32\u001B[0m \u001B[0mvis\u001B[0m \u001B[1;33m=\u001B[0m \u001B[1;33m[\u001B[0m\u001B[1;33m[\u001B[0m\u001B[1;36m0\u001B[0m\u001B[1;33m]\u001B[0m\u001B[1;33m*\u001B[0m\u001B[0mm\u001B[0m \u001B[1;32mfor\u001B[0m \u001B[0m_\u001B[0m \u001B[1;32min\u001B[0m \u001B[0mrange\u001B[0m\u001B[1;33m(\u001B[0m\u001B[0mn\u001B[0m\u001B[1;33m)\u001B[0m\u001B[1;33m]\u001B[0m   \u001B[1;31m# 记录\u001B[0m\u001B[1;33m\u001B[0m\u001B[0m\n",
      "\u001B[1;31mValueError\u001B[0m: not enough values to unpack (expected 2, got 0)"
     ]
    }
   ],
   "source": [
    "# 滑行  超时了，只能通过30%\n",
    "def is_bound(x,y):\n",
    "  if x==0 or x==n-1 or y==0 or y==m-1:\n",
    "    return 1\n",
    "  return 0\n",
    "def dfs(x,y,cnt):\n",
    "  global ans\n",
    "  if vis[x][y] == 1 or is_bound(x,y):\n",
    "    ans = max(ans,cnt)\n",
    "  if is_bound(x,y) == 0 and mp[x-1][y] > mp[x][y] and mp[x][y+1] > mp[x][y] and mp[x+1][y] > mp[x][y] and mp[x][y-1] > mp[x][y]:\n",
    "    ans = max(ans,cnt)\n",
    "  d = [(-1,0),(0,1),(1,0),(0,-1)]\n",
    "  for i in range(4):\n",
    "    nx,ny = x+d[i][0],y+d[i][1]\n",
    "    if 0<=nx<n and 0<=ny<m and vis[nx][ny] == 0 and mp[nx][ny] > mp[x][y] :\n",
    "      vis[nx][ny] = 1\n",
    "      dfs(nx,ny,cnt+1)\n",
    "      vis[nx][ny] = 0\n",
    "\n",
    "n,m = map(int,input().split())\n",
    "mp = [list(map(int,input().split())) for _ in range(n)]\n",
    "vis = [[0]*m for _ in range(n)]\n",
    "\n",
    "ans = 0\n",
    "for i in range(n):\n",
    "  for j in range(m):\n",
    "    dfs(i,j,1)\n",
    "\n",
    "print(ans)"
   ],
   "metadata": {
    "collapsed": false
   }
  },
  {
   "cell_type": "code",
   "execution_count": 3,
   "outputs": [
    {
     "ename": "ValueError",
     "evalue": "not enough values to unpack (expected 2, got 0)",
     "output_type": "error",
     "traceback": [
      "\u001B[1;31m---------------------------------------------------------------------------\u001B[0m",
      "\u001B[1;31mValueError\u001B[0m                                Traceback (most recent call last)",
      "\u001B[1;32m<ipython-input-3-5277080032c0>\u001B[0m in \u001B[0;36m<module>\u001B[1;34m()\u001B[0m\n\u001B[0;32m     15\u001B[0m \u001B[1;33m\u001B[0m\u001B[0m\n\u001B[0;32m     16\u001B[0m \u001B[1;33m\u001B[0m\u001B[0m\n\u001B[1;32m---> 17\u001B[1;33m \u001B[0mm\u001B[0m\u001B[1;33m,\u001B[0m\u001B[0mn\u001B[0m \u001B[1;33m=\u001B[0m \u001B[0mmap\u001B[0m\u001B[1;33m(\u001B[0m\u001B[0mint\u001B[0m\u001B[1;33m,\u001B[0m\u001B[0minput\u001B[0m\u001B[1;33m(\u001B[0m\u001B[1;33m)\u001B[0m\u001B[1;33m.\u001B[0m\u001B[0msplit\u001B[0m\u001B[1;33m(\u001B[0m\u001B[1;33m)\u001B[0m\u001B[1;33m)\u001B[0m\u001B[1;33m\u001B[0m\u001B[0m\n\u001B[0m\u001B[0;32m     18\u001B[0m \u001B[0mmp\u001B[0m \u001B[1;33m=\u001B[0m \u001B[1;33m[\u001B[0m\u001B[0mlist\u001B[0m\u001B[1;33m(\u001B[0m\u001B[0mmap\u001B[0m\u001B[1;33m(\u001B[0m\u001B[0mint\u001B[0m\u001B[1;33m,\u001B[0m\u001B[0minput\u001B[0m\u001B[1;33m(\u001B[0m\u001B[1;33m)\u001B[0m\u001B[1;33m.\u001B[0m\u001B[0msplit\u001B[0m\u001B[1;33m(\u001B[0m\u001B[1;33m)\u001B[0m\u001B[1;33m)\u001B[0m\u001B[1;33m)\u001B[0m \u001B[1;32mfor\u001B[0m \u001B[0m_\u001B[0m \u001B[1;32min\u001B[0m \u001B[0mrange\u001B[0m\u001B[1;33m(\u001B[0m\u001B[0mm\u001B[0m\u001B[1;33m)\u001B[0m\u001B[1;33m]\u001B[0m\u001B[1;33m\u001B[0m\u001B[0m\n\u001B[0;32m     19\u001B[0m \u001B[0msum_num\u001B[0m \u001B[1;33m=\u001B[0m \u001B[1;36m0\u001B[0m\u001B[1;33m\u001B[0m\u001B[0m\n",
      "\u001B[1;31mValueError\u001B[0m: not enough values to unpack (expected 2, got 0)"
     ]
    }
   ],
   "source": [
    "# 连通分半\n",
    "def dfs(x,y,tmp,cnt):\n",
    "  if tmp > sum_num/2: return\n",
    "  if tmp == sum_num/2:\n",
    "    cnt += 1\n",
    "    print(cnt)\n",
    "  d = [(-1,0),(0,1),(1,0),(0,-1)]\n",
    "  for i in range(4):\n",
    "    nx,ny = x+d[i][0],y+d[i][1]\n",
    "    if 0<=nx<m and 0<=ny<n and vis[nx][ny] == 0:\n",
    "      vis[nx][ny] = 1\n",
    "      tmp += mp[nx][ny]\n",
    "      cnt += 1\n",
    "      dfs(nx,ny,tmp,cnt)\n",
    "      vis[nx][ny] = 0\n",
    "\n",
    "\n",
    "m,n = map(int,input().split())\n",
    "mp = [list(map(int,input().split())) for _ in range(m)]\n",
    "sum_num = 0\n",
    "for i in mp: sum_num += sum(i)  # 求总和，分成两部分\n",
    "vis = [[0]*n for _ in range(m)]\n",
    "dfs(0,0,mp[0][0],1)"
   ],
   "metadata": {
    "collapsed": false
   }
  }
 ],
 "metadata": {
  "kernelspec": {
   "display_name": "Python 3",
   "language": "python",
   "name": "python3"
  },
  "language_info": {
   "codemirror_mode": {
    "name": "ipython",
    "version": 2
   },
   "file_extension": ".py",
   "mimetype": "text/x-python",
   "name": "python",
   "nbconvert_exporter": "python",
   "pygments_lexer": "ipython2",
   "version": "2.7.6"
  }
 },
 "nbformat": 4,
 "nbformat_minor": 0
}
