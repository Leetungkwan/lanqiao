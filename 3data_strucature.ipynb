{
 "cells": [
  {
   "cell_type": "markdown",
   "source": [
    " # 基础数据结构专场"
   ],
   "metadata": {
    "collapsed": false
   }
  },
  {
   "cell_type": "code",
   "execution_count": 1,
   "metadata": {
    "collapsed": true
   },
   "outputs": [],
   "source": [
    "import os\n",
    "import sys"
   ]
  },
  {
   "cell_type": "code",
   "execution_count": null,
   "outputs": [],
   "source": [
    "# 数组-矩阵相乘\n",
    "n,m,k = map(int, input().split())\n",
    "\n",
    "A = []\n",
    "B = []\n",
    "C = list([0]*k for _ in range(n))\n",
    "\n",
    "for i in range(n):\n",
    "    A.append(list(map(int, input().split())))\n",
    "\n",
    "for i in range(m):\n",
    "    B.append(list(map(int, input().split())))\n",
    "\n",
    "for i in range(n):\n",
    "    for j in range(m):\n",
    "        for l in range(k):\n",
    "            C[i][l] += A[i][j] * B[j][l]\n",
    "\n",
    "for i in range(n):\n",
    "  for j in range(k):\n",
    "    print(C[i][j], end=' ')\n",
    "  print()"
   ],
   "metadata": {
    "collapsed": false
   }
  },
  {
   "cell_type": "code",
   "execution_count": 2,
   "outputs": [
    {
     "ename": "ValueError",
     "evalue": "invalid literal for int() with base 10: ''",
     "output_type": "error",
     "traceback": [
      "\u001B[1;31m---------------------------------------------------------------------------\u001B[0m",
      "\u001B[1;31mValueError\u001B[0m                                Traceback (most recent call last)",
      "\u001B[1;32m<ipython-input-2-6c04c50888b0>\u001B[0m in \u001B[0;36m<module>\u001B[1;34m()\u001B[0m\n\u001B[0;32m     27\u001B[0m             \u001B[0mcur\u001B[0m \u001B[1;33m=\u001B[0m \u001B[0mcur\u001B[0m\u001B[1;33m.\u001B[0m\u001B[0mnext\u001B[0m\u001B[1;33m\u001B[0m\u001B[0m\n\u001B[0;32m     28\u001B[0m \u001B[1;33m\u001B[0m\u001B[0m\n\u001B[1;32m---> 29\u001B[1;33m \u001B[0mn\u001B[0m \u001B[1;33m=\u001B[0m \u001B[0mint\u001B[0m\u001B[1;33m(\u001B[0m\u001B[0minput\u001B[0m\u001B[1;33m(\u001B[0m\u001B[1;33m)\u001B[0m\u001B[1;33m)\u001B[0m\u001B[1;33m\u001B[0m\u001B[0m\n\u001B[0m\u001B[0;32m     30\u001B[0m \u001B[0ma\u001B[0m \u001B[1;33m=\u001B[0m \u001B[0mint\u001B[0m\u001B[1;33m(\u001B[0m\u001B[0minput\u001B[0m\u001B[1;33m(\u001B[0m\u001B[1;33m)\u001B[0m\u001B[1;33m)\u001B[0m\u001B[1;33m\u001B[0m\u001B[0m\n\u001B[0;32m     31\u001B[0m \u001B[0mnode\u001B[0m \u001B[1;33m=\u001B[0m \u001B[0mNode\u001B[0m\u001B[1;33m(\u001B[0m\u001B[0ma\u001B[0m\u001B[1;33m)\u001B[0m\u001B[1;33m\u001B[0m\u001B[0m\n",
      "\u001B[1;31mValueError\u001B[0m: invalid literal for int() with base 10: ''"
     ]
    }
   ],
   "source": [
    "# 链表-自行车停放\n",
    "# n > 100000\n",
    "class Node():  # 创建一个节点准备存放数据\n",
    "    def __init__(self, data):\n",
    "        self.data = data\n",
    "        self.next = None\n",
    "\n",
    "class SingLinkList(): # 单向不循环链表，局限性还是很大，大概了解一下即可吧（能用暴力法解决已经很强了）\n",
    "    def __init__(self, node = None):\n",
    "        self.__head = node  # 头指针(空)\n",
    "    def left_insert(self,x,y):   # 在x的左边插入数据\n",
    "        pre = self.__head\n",
    "        while pre.next.data != x: pre = pre.next  # 从头开始搜索列表，知道搜索到x的前一个结点\n",
    "        node = Node(y) # 创建新节点\n",
    "        node.next = pre.next  # 前插入方式，与list的insert保持一致\n",
    "        pre.next = node\n",
    "    def right_insert(self,x,y): # 在x的右边插入数据\n",
    "        pre = self.__head\n",
    "        while pre.data != x : pre = pre.next\n",
    "        node = Node(y)\n",
    "        node.next = pre.next\n",
    "        pre.next = node\n",
    "    def print_lsit(self):\n",
    "        cur = self.__head\n",
    "        while cur != None:\n",
    "            print(cur.data, end=' ')\n",
    "            cur = cur.next\n",
    "\n",
    "n = int(input())\n",
    "a = int(input())\n",
    "node = Node(a)\n",
    "a_list = SingLinkList(node)\n",
    "for i in range(n-1): # 生成行数\n",
    "    x,y,z = map(int, input().split())\n",
    "    if z == 0: a_list.left_insert(y,x)\n",
    "    else: a_list.right_insert(y,x)\n",
    "\n",
    "a_list.print_lsit()\n",
    "\n",
    "# n = int(input())\n",
    "# a = int(input())\n",
    "# a_list = [a]\n",
    "# for i in range(n-1):\n",
    "#   x,y,z = map(int, input().split())\n",
    "#   if z == 0: a_list.insert(a_list.index(x), y)\n",
    "#   else:      a_list.insert(a_list.index(x)+1, y)\n",
    "#\n",
    "# for i in a_list:\n",
    "#   print(i, end=' ')\n"
   ],
   "metadata": {
    "collapsed": false
   }
  },
  {
   "cell_type": "code",
   "execution_count": 2,
   "outputs": [
    {
     "name": "stdout",
     "output_type": "stream",
     "text": [
      "#1: A->C\n",
      "#2: A->B\n",
      "#3: C->B\n",
      "#4: A->C\n",
      "#5: B->A\n",
      "#6: B->C\n",
      "#7: A->C\n",
      "7\n"
     ]
    }
   ],
   "source": [
    "# 汉诺塔-递归\n",
    "# def hanoi(x,y,z,n):\n",
    "#     global cnt\n",
    "#     if n == 1:\n",
    "#         cnt += 1\n",
    "#         if cnt == M:\n",
    "#              ans = f\"#{M}: {x}->{z}\"\n",
    "#              print(ans)\n",
    "#\n",
    "#     else:\n",
    "#         hanoi(x,z,y,n-1)\n",
    "#         cnt += 1\n",
    "#         if cnt == M:\n",
    "#              ans = f\"#{M}: {x}->{z}\"\n",
    "#              print(ans)\n",
    "#         hanoi(y,x,z,n-1)\n",
    "#\n",
    "#\n",
    "# N, M = map(int, input().split())\n",
    "# cnt = 0\n",
    "# hanoi('A','B', 'C', N)\n",
    "# print(cnt)\n",
    "\n",
    "def hanoi(x,y,z,n):\n",
    "    global cnt\n",
    "    if n == 1:\n",
    "        cnt += 1\n",
    "        ans = f\"#{cnt}: {x}->{z}\"\n",
    "        print(ans)\n",
    "\n",
    "\n",
    "    else:\n",
    "        hanoi(x,z,y,n-1)\n",
    "        cnt += 1\n",
    "        ans = f\"#{cnt}: {x}->{z}\"\n",
    "        print(ans)\n",
    "        hanoi(y,x,z,n-1)\n",
    "\n",
    "N, M = map(int, input().split())\n",
    "cnt = 0\n",
    "hanoi('A','B', 'C', N)\n",
    "print(cnt)\n"
   ],
   "metadata": {
    "collapsed": false
   }
  },
  {
   "cell_type": "code",
   "execution_count": 7,
   "outputs": [
    {
     "name": "stdout",
     "output_type": "stream",
     "text": [
      "ABCDEFGHI"
     ]
    }
   ],
   "source": [
    "# 二叉树\n",
    "sys.setrecursionlimit(300000000)\n",
    "tree = ['']*10000000\n",
    "tree[1:8] = ['E','B','G','A','D','F','I']\n",
    "tree[10] = 'C'\n",
    "tree[14] = 'H'\n",
    "\n",
    "\n",
    "def inorder(p):  # 中根遍历\n",
    "    if tree[2*p] != '': inorder(2*p)\n",
    "    print(tree[p], end='')\n",
    "    if tree[2*p+1] != '': inorder(2*p+1)\n",
    "\n",
    "inorder(1)"
   ],
   "metadata": {
    "collapsed": false
   }
  },
  {
   "cell_type": "code",
   "execution_count": 9,
   "outputs": [
    {
     "name": "stdout",
     "output_type": "stream",
     "text": [
      "I B F B B B F I B F I I I F F "
     ]
    }
   ],
   "source": [
    "def build(p,L,R):\n",
    "    if L == R:\n",
    "        if s[R] == '1': tree[p]='I'\n",
    "        else:           tree[p]='B'\n",
    "        return   # 有递有归，这种题目基本放弃吧，等过了省一再学\n",
    "    mid = (L+R)//2\n",
    "    build(2*p,L,mid)\n",
    "    build(2*p+1,mid+1,R)\n",
    "    if tree[2*p] == 'B' and tree[2*p+1] == 'B': tree[p] = 'B'\n",
    "    elif tree[2*p] == 'I' and tree[2*p+1] == 'I': tree[p] = 'I'\n",
    "    else: tree[p] = 'F'\n",
    "\n",
    "def postorder(p):\n",
    "    if tree[2*p] != '': postorder(2*p)\n",
    "    if tree[2*p+1] != '': postorder(2*p+1)\n",
    "    print(tree[p],end=' ')\n",
    "\n",
    "N = int(input())\n",
    "s = [0] + list(input())\n",
    "tree = ['']*4500\n",
    "build(1,1,len(s)-1)\n",
    "postorder(1)"
   ],
   "metadata": {
    "collapsed": false
   }
  },
  {
   "cell_type": "code",
   "execution_count": 11,
   "outputs": [
    {
     "data": {
      "text/plain": "['jiazi',\n 'yichou',\n 'bingyin',\n 'dingmao',\n 'wuchen',\n 'jisi',\n 'gengwu',\n 'xinwei',\n 'renshen',\n 'guiyou',\n 'jiaxu',\n 'yihai',\n 'bingzi',\n 'dingchou',\n 'wuyin',\n 'jimao',\n 'gengchen',\n 'xinsi',\n 'renwu',\n 'guiwei',\n 'jiashen',\n 'yiyou',\n 'bingxu',\n 'dinghai',\n 'wuzi',\n 'jichou',\n 'gengyin',\n 'xinmao',\n 'renchen',\n 'guisi',\n 'jiawu',\n 'yiwei',\n 'bingshen',\n 'dingyou',\n 'wuxu',\n 'jihai',\n 'gengzi',\n 'xinchou',\n 'renyin',\n 'guimao',\n 'jiachen',\n 'yisi',\n 'bingwu',\n 'dingwei',\n 'wushen',\n 'jiyou',\n 'gengxu',\n 'xinhai',\n 'renzi',\n 'guichou',\n 'jiayin',\n 'yimao',\n 'bingchen',\n 'dingsi',\n 'wuwu',\n 'jiwei',\n 'gengshen',\n 'xinyou',\n 'renxu',\n 'guihai']"
     },
     "execution_count": 11,
     "metadata": {},
     "output_type": "execute_result"
    }
   ],
   "source": [
    "# 天干地支问题，很有代表性\n",
    "\n",
    "sky = ['jia','yi','bing','ding','wu','ji','geng','xin','ren','gui']\n",
    "earth = ['zi','chou','yin','mao','chen','si','wu','wei','shen','you','xu','hai']\n",
    "\n",
    "years = [sky[i % 10] + earth[i % 12] for i in range(60)]\n",
    "years"
   ],
   "metadata": {
    "collapsed": false
   }
  },
  {
   "cell_type": "code",
   "execution_count": 13,
   "outputs": [
    {
     "data": {
      "text/plain": "False"
     },
     "execution_count": 13,
     "metadata": {},
     "output_type": "execute_result"
    }
   ],
   "source": [
    "def test(a,b):\n",
    "    return a>b if a else a<b\n",
    "\n",
    "test(2,3)"
   ],
   "metadata": {
    "collapsed": false
   }
  },
  {
   "cell_type": "code",
   "execution_count": null,
   "outputs": [],
   "source": [
    "# 质数-除了1和它本身，不能再被其它数整除\n",
    "lst = []\n",
    "\n",
    "def judge(n):\n",
    "  for i in range(2,n):\n",
    "    if n%i == 0:\n",
    "      return 0\n",
    "  return 1\n",
    "\n",
    "\n",
    "for i in range(2,20000):\n",
    "  if judge(i):\n",
    "    lst.append(i)\n",
    "\n",
    "print(lst[2018])"
   ],
   "metadata": {
    "collapsed": false
   }
  }
 ],
 "metadata": {
  "kernelspec": {
   "display_name": "Python 3",
   "language": "python",
   "name": "python3"
  },
  "language_info": {
   "codemirror_mode": {
    "name": "ipython",
    "version": 2
   },
   "file_extension": ".py",
   "mimetype": "text/x-python",
   "name": "python",
   "nbconvert_exporter": "python",
   "pygments_lexer": "ipython2",
   "version": "2.7.6"
  }
 },
 "nbformat": 4,
 "nbformat_minor": 0
}
