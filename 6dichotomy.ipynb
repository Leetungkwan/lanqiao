{
 "cells": [
  {
   "cell_type": "code",
   "execution_count": null,
   "metadata": {
    "collapsed": true
   },
   "outputs": [],
   "source": [
    "import os\n",
    "import sys"
   ]
  },
  {
   "cell_type": "markdown",
   "source": [
    "## 二分法"
   ],
   "metadata": {
    "collapsed": false
   }
  },
  {
   "cell_type": "code",
   "execution_count": 1,
   "outputs": [
    {
     "name": "stdout",
     "output_type": "stream",
     "text": [
      "0 50\n",
      "25 50\n",
      "25 37\n",
      "25 30\n",
      "25 27\n",
      "26 27\n",
      "27 27\n",
      "56\n"
     ]
    }
   ],
   "source": [
    "# 二分法求后继\n",
    "def bin_search_back(a,n,x):\n",
    "    L = 0\n",
    "    R = n    #左闭右开\n",
    "    while (L<R):  # 跳出循环条件是L==R\n",
    "        mid = (L+R)//2\n",
    "        if a[mid] >= x: R = mid\n",
    "        else:           L = mid+1\n",
    "        print(L,R)\n",
    "    return L\n",
    "\n",
    "# 二分法求前继\n",
    "def bin_search_pre(a,n,x):\n",
    "    L = 0\n",
    "    R = n+1    #左闭右开\n",
    "    while (L<R):  # 跳出循环条件是L==R\n",
    "        mid = (L+R+1)//2    # 捻明白点解哩度要加1\n",
    "        if a[mid] >= x: R = mid-1\n",
    "        else:           L = mid\n",
    "        print(L,R)\n",
    "    return L\n",
    "\n",
    "a = [i for i in range(2,202,2)]\n",
    "search = 57\n",
    "index = bin_search_pre(a,len(a),search)\n",
    "print(a[index])\n"
   ],
   "metadata": {
    "collapsed": false
   }
  },
  {
   "cell_type": "code",
   "execution_count": 3,
   "outputs": [
    {
     "ename": "ValueError",
     "evalue": "not enough values to unpack (expected 2, got 0)",
     "output_type": "error",
     "traceback": [
      "\u001B[1;31m---------------------------------------------------------------------------\u001B[0m",
      "\u001B[1;31mValueError\u001B[0m                                Traceback (most recent call last)",
      "\u001B[1;32m<ipython-input-3-38d0a5b6dd8b>\u001B[0m in \u001B[0;36m<module>\u001B[1;34m()\u001B[0m\n\u001B[0;32m      9\u001B[0m \u001B[1;33m\u001B[0m\u001B[0m\n\u001B[0;32m     10\u001B[0m \u001B[1;33m\u001B[0m\u001B[0m\n\u001B[1;32m---> 11\u001B[1;33m \u001B[0mn\u001B[0m\u001B[1;33m,\u001B[0m\u001B[0mk\u001B[0m \u001B[1;33m=\u001B[0m \u001B[0mmap\u001B[0m\u001B[1;33m(\u001B[0m\u001B[0mint\u001B[0m\u001B[1;33m,\u001B[0m\u001B[0minput\u001B[0m\u001B[1;33m(\u001B[0m\u001B[1;33m)\u001B[0m\u001B[1;33m.\u001B[0m\u001B[0msplit\u001B[0m\u001B[1;33m(\u001B[0m\u001B[1;33m)\u001B[0m\u001B[1;33m)\u001B[0m\u001B[1;33m\u001B[0m\u001B[0m\n\u001B[0m\u001B[0;32m     12\u001B[0m \u001B[0mH\u001B[0m \u001B[1;33m=\u001B[0m \u001B[1;33m[\u001B[0m\u001B[1;33m]\u001B[0m\u001B[1;33m\u001B[0m\u001B[0m\n\u001B[0;32m     13\u001B[0m \u001B[0mW\u001B[0m \u001B[1;33m=\u001B[0m \u001B[1;33m[\u001B[0m\u001B[1;33m]\u001B[0m\u001B[1;33m\u001B[0m\u001B[0m\n",
      "\u001B[1;31mValueError\u001B[0m: not enough values to unpack (expected 2, got 0)"
     ]
    }
   ],
   "source": [
    "# 分巧克力-求前继\n",
    "def check(d):\n",
    "  ans = 0\n",
    "  for i in range(n):\n",
    "    ans += (H[i]//d) * (W[i]//d)\n",
    "  if ans >= k: return 1\n",
    "  else:        return 0\n",
    "\n",
    "\n",
    "\n",
    "n,k = map(int,input().split())\n",
    "H = []\n",
    "W = []\n",
    "\n",
    "for i in range(n):\n",
    "  h,w = map(int,input().split())\n",
    "  H.append(h)\n",
    "  W.append(w)\n",
    "\n",
    "max = max(H+W)\n",
    "\n",
    "L = 0 #从0开始最稳妥，用不了多少时间的\n",
    "R = max\n",
    "while(L<R):\n",
    "  mid = (L+R+1)//2\n",
    "  if check(mid): L=mid\n",
    "  else:          R=mid-1\n",
    "\n",
    "print(L)"
   ],
   "metadata": {
    "collapsed": false
   }
  },
  {
   "cell_type": "code",
   "execution_count": 1,
   "outputs": [
    {
     "ename": "ValueError",
     "evalue": "not enough values to unpack (expected 3, got 0)",
     "output_type": "error",
     "traceback": [
      "\u001B[1;31m---------------------------------------------------------------------------\u001B[0m",
      "\u001B[1;31mValueError\u001B[0m                                Traceback (most recent call last)",
      "\u001B[1;32m<ipython-input-1-439c8e2d9413>\u001B[0m in \u001B[0;36m<module>\u001B[1;34m()\u001B[0m\n\u001B[0;32m      9\u001B[0m   \u001B[1;32melse\u001B[0m\u001B[1;33m:\u001B[0m        \u001B[1;32mreturn\u001B[0m \u001B[1;36m0\u001B[0m\u001B[1;33m\u001B[0m\u001B[0m\n\u001B[0;32m     10\u001B[0m \u001B[1;33m\u001B[0m\u001B[0m\n\u001B[1;32m---> 11\u001B[1;33m \u001B[0ml\u001B[0m\u001B[1;33m,\u001B[0m\u001B[0mn\u001B[0m\u001B[1;33m,\u001B[0m\u001B[0mm\u001B[0m \u001B[1;33m=\u001B[0m \u001B[0mmap\u001B[0m\u001B[1;33m(\u001B[0m\u001B[0mint\u001B[0m\u001B[1;33m,\u001B[0m\u001B[0minput\u001B[0m\u001B[1;33m(\u001B[0m\u001B[1;33m)\u001B[0m\u001B[1;33m.\u001B[0m\u001B[0msplit\u001B[0m\u001B[1;33m(\u001B[0m\u001B[1;33m)\u001B[0m\u001B[1;33m)\u001B[0m\u001B[1;33m\u001B[0m\u001B[0m\n\u001B[0m\u001B[0;32m     12\u001B[0m \u001B[0ma\u001B[0m \u001B[1;33m=\u001B[0m \u001B[0mlist\u001B[0m\u001B[1;33m(\u001B[0m\u001B[0mint\u001B[0m\u001B[1;33m(\u001B[0m\u001B[0minput\u001B[0m\u001B[1;33m(\u001B[0m\u001B[1;33m)\u001B[0m\u001B[1;33m)\u001B[0m \u001B[1;32mfor\u001B[0m \u001B[0m_\u001B[0m \u001B[1;32min\u001B[0m \u001B[0mrange\u001B[0m\u001B[1;33m(\u001B[0m\u001B[0mn\u001B[0m\u001B[1;33m)\u001B[0m\u001B[1;33m)\u001B[0m\u001B[1;33m\u001B[0m\u001B[0m\n\u001B[0;32m     13\u001B[0m \u001B[1;33m\u001B[0m\u001B[0m\n",
      "\u001B[1;31mValueError\u001B[0m: not enough values to unpack (expected 3, got 0)"
     ]
    }
   ],
   "source": [
    "# 石头问题\n",
    "def check(d):\n",
    "  cnt = 0\n",
    "  tmp = 0\n",
    "  for i in range(n):\n",
    "    if a[i] - tmp < d: cnt+=1\n",
    "    else: tmp = a[i]\n",
    "  if cnt <= m: return 1\n",
    "  else:        return 0\n",
    "\n",
    "l,n,m = map(int,input().split())\n",
    "a = list(int(input()) for _ in range(n))\n",
    "\n",
    "L = 0\n",
    "R = l\n",
    "while L<R:\n",
    "  mid = (L+R+1)//2\n",
    "  if check(mid): L = mid\n",
    "  else:          R = mid-1\n",
    "\n",
    "print(R)\n",
    "\n",
    "\n",
    "# print(rm(a))\n",
    "##distance(b)\n",
    "\n",
    "\n",
    "##print(a)\n"
   ],
   "metadata": {
    "collapsed": false
   }
  }
 ],
 "metadata": {
  "kernelspec": {
   "display_name": "Python 3",
   "language": "python",
   "name": "python3"
  },
  "language_info": {
   "codemirror_mode": {
    "name": "ipython",
    "version": 2
   },
   "file_extension": ".py",
   "mimetype": "text/x-python",
   "name": "python",
   "nbconvert_exporter": "python",
   "pygments_lexer": "ipython2",
   "version": "2.7.6"
  }
 },
 "nbformat": 4,
 "nbformat_minor": 0
}
